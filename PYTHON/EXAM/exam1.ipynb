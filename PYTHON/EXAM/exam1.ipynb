{
  "nbformat": 4,
  "nbformat_minor": 0,
  "metadata": {
    "colab": {
      "provenance": []
    },
    "kernelspec": {
      "name": "python3",
      "display_name": "Python 3"
    },
    "language_info": {
      "name": "python"
    }
  },
  "cells": [
    {
      "cell_type": "code",
      "execution_count": null,
      "metadata": {
        "id": "ALf6LWJA4z-c"
      },
      "outputs": [],
      "source": []
    },
    {
      "cell_type": "markdown",
      "source": [
        "EXAM PYTHON WEEK 1\n"
      ],
      "metadata": {
        "id": "Ixd-2oTK7ar4"
      }
    },
    {
      "cell_type": "markdown",
      "source": [
        "1. Buatlah iterasi yang mencetak angka saat ini, sebelumnya dan jumlahnya, dalam rentang(10):\n",
        "\n",
        "\n",
        "Angka Saat Ini 0 Angka Sebelumnya 0 Jumlah: 0\n",
        "\n",
        "Angka Saat Ini 1 Angka Sebelumnya 0 Jumlah: 1\n",
        "\n",
        "Angka Saat Ini 2 Angka Sebelumnya 1 Jumlah: 3\n",
        "\n",
        "Angka Saat Ini 3 Angka Sebelumnya 2 Jumlah: 5\n",
        "\n",
        "Angka Saat Ini 4 Angka Sebelumnya 3 Jumlah: 7\n",
        "\n",
        "Angka Saat Ini 5 Sebelumnya Angka 4 Jumlah: 9\n",
        "\n",
        "Angka Saat Ini 6 Angka Sebelumnya 5 Jumlah: 11\n",
        "\n",
        "Angka Saat Ini 7 Angka Sebelumnya 6 Jumlah: 13\n",
        "\n",
        "Angka Saat Ini 8 Angka Sebelumnya 7 Jumlah: 15\n",
        "\n",
        "Angka Saat Ini 9 Angka Sebelumnya 8 Jumlah: 17\n"
      ],
      "metadata": {
        "id": "pwch8WMb446X"
      }
    },
    {
      "cell_type": "code",
      "source": [
        "jumlah = 0\n",
        "sebelumnya = 0\n",
        "\n",
        "for angka in range(10):\n",
        "    print(\"Angka Saat Ini:\", angka, \"Angka Sebelumnya:\", sebelumnya, \"Jumlah:\", jumlah)\n",
        "    jumlah = angka + sebelumnya\n",
        "    sebelumnya = angka\n",
        "    jumlah += angka\n"
      ],
      "metadata": {
        "colab": {
          "base_uri": "https://localhost:8080/"
        },
        "id": "CY2R8OKm46Jx",
        "outputId": "b4892155-ec1d-441e-8913-8944b8cbd027"
      },
      "execution_count": null,
      "outputs": [
        {
          "output_type": "stream",
          "name": "stdout",
          "text": [
            "Angka Saat Ini: 0 Angka Sebelumnya: 0 Jumlah: 0\n",
            "Angka Saat Ini: 1 Angka Sebelumnya: 0 Jumlah: 0\n",
            "Angka Saat Ini: 2 Angka Sebelumnya: 1 Jumlah: 2\n",
            "Angka Saat Ini: 3 Angka Sebelumnya: 2 Jumlah: 5\n",
            "Angka Saat Ini: 4 Angka Sebelumnya: 3 Jumlah: 8\n",
            "Angka Saat Ini: 5 Angka Sebelumnya: 4 Jumlah: 11\n",
            "Angka Saat Ini: 6 Angka Sebelumnya: 5 Jumlah: 14\n",
            "Angka Saat Ini: 7 Angka Sebelumnya: 6 Jumlah: 17\n",
            "Angka Saat Ini: 8 Angka Sebelumnya: 7 Jumlah: 20\n",
            "Angka Saat Ini: 9 Angka Sebelumnya: 8 Jumlah: 23\n"
          ]
        }
      ]
    },
    {
      "cell_type": "markdown",
      "source": [
        "2. Buatlah sebuah fungsi yang mengembalikan (return) True jika angka pertama dan terakhir dari daftar yang diberikan sama. Jika angkanya berbeda maka kembalikan (return) False.\n",
        "\n",
        "\n",
        "Contoh:\n",
        "\n",
        "x = [10, 20, 30, 40, 10]\n",
        "\n",
        "result is True\n",
        "\n",
        "y = [75, 65, 35, 75, 30]\n",
        "\n",
        "result is False"
      ],
      "metadata": {
        "id": "HP6wd0nn5Lh7"
      }
    },
    {
      "cell_type": "code",
      "source": [
        "def check_first_last(numbers):\n",
        "    if numbers[0] == numbers[-1]:\n",
        "        return True\n",
        "    else:\n",
        "        return False\n",
        "\n",
        "# Contoh penggunaan\n",
        "x = [10, 20, 30, 40, 10]\n",
        "result_x = check_first_last(x)\n",
        "print(\"result is\", result_x)\n",
        "\n",
        "y = [75, 65, 35, 75, 30]\n",
        "result_y = check_first_last(y)\n",
        "print(\"result is\", result_y)\n"
      ],
      "metadata": {
        "colab": {
          "base_uri": "https://localhost:8080/"
        },
        "id": "9XNKOtpu5OM0",
        "outputId": "39eb369c-6ea3-4fd5-c4b6-7992223fd10e"
      },
      "execution_count": null,
      "outputs": [
        {
          "output_type": "stream",
          "name": "stdout",
          "text": [
            "result is True\n",
            "result is False\n"
          ]
        }
      ]
    },
    {
      "cell_type": "markdown",
      "source": [
        "3. Buatlah loop yang mencetak tampilan seperti di bawah ini:\n",
        "\n",
        "\n",
        "1\n",
        "\n",
        "2 2\n",
        "\n",
        "3 3 3\n",
        "\n",
        "4 4 4 4\n",
        "\n",
        "5 5 5 5 5"
      ],
      "metadata": {
        "id": "cdl_Rr0L5Tyk"
      }
    },
    {
      "cell_type": "code",
      "source": [
        "for i in range(1, 6):\n",
        "    print((str(i) + ' ') * i)\n"
      ],
      "metadata": {
        "colab": {
          "base_uri": "https://localhost:8080/"
        },
        "id": "9rnRkfTW5bfL",
        "outputId": "f710b80f-228f-469b-aac8-13dffb04b4bb"
      },
      "execution_count": null,
      "outputs": [
        {
          "output_type": "stream",
          "name": "stdout",
          "text": [
            "1 \n",
            "2 2 \n",
            "3 3 3 \n",
            "4 4 4 4 \n",
            "5 5 5 5 5 \n"
          ]
        }
      ]
    },
    {
      "cell_type": "markdown",
      "source": [
        "4. Buatlah loop yang mencetak tabel perkalian 1 sampai 10 sebagai berikut:\n",
        "\n",
        "\n",
        "\n",
        "1  2 3 4 5 6 7 8 9 10                 \n",
        "\n",
        "2  4 6 8 10 12 14 16 18 20                 \n",
        "\n",
        "3  6 9 12 15 18 21 24 27 30                 \n",
        "\n",
        "4  8 12 16 20 24 28 32 36 40                 \n",
        "\n",
        "5  10 15 20 25 30 35 40 45 50                 \n",
        "\n",
        "6  12 18 24 30 36 42 48 54 60                 \n",
        "\n",
        "7  14 21 28 35 42 49 56 63 70                 \n",
        "\n",
        "8  16 24 32 40 48 56 64 72 80                 \n",
        "\n",
        "9  18 27 36 45 54 63 72 81 90                 \n",
        "\n",
        "10 20 30 40 50 60 70 80 90 100"
      ],
      "metadata": {
        "id": "egJwrQEH5e5i"
      }
    },
    {
      "cell_type": "code",
      "source": [
        "for i in range(1, 11):\n",
        "    for j in range(1, 11):\n",
        "        print(i * j, end=' ')\n",
        "    print()\n"
      ],
      "metadata": {
        "colab": {
          "base_uri": "https://localhost:8080/"
        },
        "id": "r_SnjvwT5lQe",
        "outputId": "f85f926a-9feb-4530-c3e4-8ac72f223cbb"
      },
      "execution_count": null,
      "outputs": [
        {
          "output_type": "stream",
          "name": "stdout",
          "text": [
            "1 2 3 4 5 6 7 8 9 10 \n",
            "2 4 6 8 10 12 14 16 18 20 \n",
            "3 6 9 12 15 18 21 24 27 30 \n",
            "4 8 12 16 20 24 28 32 36 40 \n",
            "5 10 15 20 25 30 35 40 45 50 \n",
            "6 12 18 24 30 36 42 48 54 60 \n",
            "7 14 21 28 35 42 49 56 63 70 \n",
            "8 16 24 32 40 48 56 64 72 80 \n",
            "9 18 27 36 45 54 63 72 81 90 \n",
            "10 20 30 40 50 60 70 80 90 100 \n"
          ]
        }
      ]
    },
    {
      "cell_type": "markdown",
      "source": [
        "5. Gabungkan dua dictionary di bawah menjadi satu:\n",
        "\n",
        "\n",
        "dict01 = {'Ten': 10, 'Twenty': 20, 'Thirty': 30}\n",
        "\n",
        "dict02 = {'Thirty': 30, 'Fourty': 40, 'Fifty': 50}\n",
        "\n",
        "Expected output:\n",
        "\n",
        "{'Ten': 10, 'Twenty': 20, 'Thirty': 30, 'Fourty': 40, 'Fifty': 50}\n",
        "\n"
      ],
      "metadata": {
        "id": "AbA7O-oH5st_"
      }
    },
    {
      "cell_type": "code",
      "source": [
        "dict01 = {'Ten': 10, 'Twenty': 20, 'Thirty': 30}\n",
        "dict02 = {'Thirty': 30, 'Fourty': 40, 'Fifty': 50}\n",
        "\n",
        "dict01.update(dict02)\n",
        "result = dict01\n",
        "\n",
        "print(result)\n"
      ],
      "metadata": {
        "colab": {
          "base_uri": "https://localhost:8080/"
        },
        "id": "IhhrHkm251pU",
        "outputId": "71065b53-89b4-4e40-e5ba-dd9494dc8a69"
      },
      "execution_count": null,
      "outputs": [
        {
          "output_type": "stream",
          "name": "stdout",
          "text": [
            "{'Ten': 10, 'Twenty': 20, 'Thirty': 30, 'Fourty': 40, 'Fifty': 50}\n"
          ]
        }
      ]
    },
    {
      "cell_type": "markdown",
      "source": [
        "6. Print value dari key ‘sejarah’ pada dict di bawah ini:\n",
        "\n",
        "\n",
        "siswaDict = {\n",
        "\n",
        "    \"kelas\": {\n",
        "\n",
        "        \"siswa\": {\n",
        "\n",
        "            \"nama\": \"Ira\",\n",
        "\n",
        "            \"nilai\": {\n",
        "\n",
        "                \"matematika\": 70,\n",
        "\n",
        "                \"sejarah\": 80\n",
        "\n",
        "            }\n",
        "\n",
        "        }\n",
        "\n",
        "    }\n",
        "\n",
        "}\n",
        "\n",
        "\n",
        "Expected output:\n",
        "\n",
        "80"
      ],
      "metadata": {
        "id": "61UXZRlj5-I-"
      }
    },
    {
      "cell_type": "code",
      "source": [
        "siswaDict = {\n",
        "    \"kelas\": {\n",
        "        \"siswa\": {\n",
        "            \"nama\": \"Ira\",\n",
        "            \"nilai\": {\n",
        "                \"matematika\": 70,\n",
        "                \"sejarah\": 80\n",
        "            }\n",
        "        }\n",
        "    }\n",
        "}\n",
        "\n",
        "nilai_sejarah = siswaDict['kelas']['siswa']['nilai']['sejarah']\n",
        "print(nilai_sejarah)\n"
      ],
      "metadata": {
        "colab": {
          "base_uri": "https://localhost:8080/"
        },
        "id": "O-d020Lz6FaC",
        "outputId": "dad2ed53-4574-48c3-88af-aa9e1f746d20"
      },
      "execution_count": null,
      "outputs": [
        {
          "output_type": "stream",
          "name": "stdout",
          "text": [
            "80\n"
          ]
        }
      ]
    },
    {
      "cell_type": "markdown",
      "source": [
        "7. Diberikan data berikut:\n",
        "\n",
        "\n",
        "employees = ['Adi', ‘Budi’]\n",
        "\n",
        "defaults = {\"role\": 'Developer', \"gaji\": 8000}\n",
        "\n",
        "\n",
        "Expected output:\n",
        "\n",
        "\n",
        "{'Adi': {'role': 'Developer', ‘gaji': 8000}, 'Budi': {'role': 'Developer', 'gaji': 8000}}\n",
        "\n"
      ],
      "metadata": {
        "id": "petpVsmh6NMB"
      }
    },
    {
      "cell_type": "code",
      "source": [
        "employees = ['Adi', 'Budi']\n",
        "defaults = {\"role\": 'Developer', \"gaji\": 8000}\n",
        "\n",
        "result = {employee: defaults for employee in employees}\n",
        "\n",
        "print(result)\n"
      ],
      "metadata": {
        "colab": {
          "base_uri": "https://localhost:8080/"
        },
        "id": "aTv4Vpoo6avA",
        "outputId": "67b04adf-111b-4006-c73d-aff94ad37ca6"
      },
      "execution_count": null,
      "outputs": [
        {
          "output_type": "stream",
          "name": "stdout",
          "text": [
            "{'Adi': {'role': 'Developer', 'gaji': 8000}, 'Budi': {'role': 'Developer', 'gaji': 8000}}\n"
          ]
        }
      ]
    },
    {
      "cell_type": "markdown",
      "source": [
        "8. Tulis kode untuk memecah (unpack) tuple di bawah ini menjadi empat variabel dan tampilkan tiap variabel.\n",
        "\n",
        "\n",
        "tuple1 = (10, 20, 30, 40)\n",
        "\n",
        "# Kode Anda\n",
        "\n",
        "# Sehingga hasilnya menjadi seperti di bawah\n",
        "\n",
        "print(a) # should print 10\n",
        "\n",
        "print(b) # should print 20\n",
        "\n",
        "print(c) # should print 30\n",
        "\n",
        "print(d) # should print 40"
      ],
      "metadata": {
        "id": "bAuO6JtW6ekC"
      }
    },
    {
      "cell_type": "code",
      "source": [
        "tuple1 = (10, 20, 30, 40)\n",
        "\n",
        "a, b, c, d = tuple1\n",
        "\n",
        "print(a)  # Output: 10\n",
        "print(b)  # Output: 20\n",
        "print(c)  # Output: 30\n",
        "print(d)  # Output: 40\n"
      ],
      "metadata": {
        "colab": {
          "base_uri": "https://localhost:8080/"
        },
        "id": "mXKzlA-X6ju3",
        "outputId": "0d5106e5-68a8-4bd1-9442-7f09db1d5c0a"
      },
      "execution_count": null,
      "outputs": [
        {
          "output_type": "stream",
          "name": "stdout",
          "text": [
            "10\n",
            "20\n",
            "30\n",
            "40\n"
          ]
        }
      ]
    },
    {
      "cell_type": "markdown",
      "source": [
        "9. Tambahkan semua elemen dari list sample_list ke dalam set sample_set:\n",
        "\n",
        "\n",
        "Given:\n",
        "\n",
        "sample_set = {\"Yellow\", \"Orange\", \"Black\"}\n",
        "\n",
        "sample_list = [\"Blue\", \"Green\", \"Red\"]\n",
        "\n",
        "\n",
        "Expected output:\n",
        "\n",
        "{'Green', 'Yellow', 'Black', 'Orange', 'Red', 'Blue'}\n",
        "\n"
      ],
      "metadata": {
        "id": "mMBl2IdW61MH"
      }
    },
    {
      "cell_type": "code",
      "source": [
        "sample_set = {\"Yellow\", \"Orange\", \"Black\"}\n",
        "sample_list = [\"Blue\", \"Green\", \"Red\"]\n",
        "\n",
        "sample_set.update(sample_list)\n",
        "print(sample_set)\n"
      ],
      "metadata": {
        "colab": {
          "base_uri": "https://localhost:8080/"
        },
        "id": "IX8qEoe766PG",
        "outputId": "b4e88522-366c-47a1-d275-9f711ff64b30"
      },
      "execution_count": null,
      "outputs": [
        {
          "output_type": "stream",
          "name": "stdout",
          "text": [
            "{'Yellow', 'Blue', 'Red', 'Orange', 'Black', 'Green'}\n"
          ]
        }
      ]
    },
    {
      "cell_type": "markdown",
      "source": [
        "10. Buatlah sebuah fungsi calculation() yang menerima dua parameter dan menghitung penjumlahan dan pengurangan sekaligus. Fungsi tersebut harus memberikan return penjumlahan dan pengurangan dalam sekali pemanggilan fungsi.\n",
        "\n",
        "\n",
        "Given:\n",
        "\n",
        "\n",
        "def calculation(a, b):\n",
        "\n",
        "    # Code Anda\n",
        "\n",
        "\n",
        "res = calculation(40, 10)\n",
        "\n",
        "print(res)\n",
        "\n",
        "\n",
        "Expected Output\n",
        "\n",
        "50, 30"
      ],
      "metadata": {
        "id": "91OSKjy37AI0"
      }
    },
    {
      "cell_type": "code",
      "source": [
        "def calculation(a, b):\n",
        "    addition = a + b\n",
        "    subtraction = a - b\n",
        "    return addition, subtraction\n",
        "\n",
        "res = calculation(40, 10)\n",
        "print(res)\n"
      ],
      "metadata": {
        "colab": {
          "base_uri": "https://localhost:8080/"
        },
        "id": "2TpphOAN7E-K",
        "outputId": "0cdbcef6-4913-43c2-cda2-1199a636fad1"
      },
      "execution_count": null,
      "outputs": [
        {
          "output_type": "stream",
          "name": "stdout",
          "text": [
            "(50, 30)\n"
          ]
        }
      ]
    }
  ]
}