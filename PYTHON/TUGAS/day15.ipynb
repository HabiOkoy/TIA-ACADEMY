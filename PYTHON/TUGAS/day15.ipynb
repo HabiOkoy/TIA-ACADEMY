{
  "nbformat": 4,
  "nbformat_minor": 0,
  "metadata": {
    "colab": {
      "provenance": []
    },
    "kernelspec": {
      "name": "python3",
      "display_name": "Python 3"
    },
    "language_info": {
      "name": "python"
    }
  },
  "cells": [
    {
      "cell_type": "code",
      "source": [],
      "metadata": {
        "id": "uKUg0Op1L1kl"
      },
      "execution_count": null,
      "outputs": []
    },
    {
      "cell_type": "markdown",
      "source": [
        "# NAMA MUHAMAD ILHAM NUR HABIBIE WIBOWO\n",
        "KELAS CHERNO"
      ],
      "metadata": {
        "id": "-4JR0cU3Lwvb"
      }
    },
    {
      "cell_type": "code",
      "execution_count": null,
      "metadata": {
        "colab": {
          "base_uri": "https://localhost:8080/"
        },
        "id": "fN2dNsU0vaTY",
        "outputId": "f17a3f8e-a19d-49fb-976d-cc5d51a3a0a2"
      },
      "outputs": [
        {
          "output_type": "stream",
          "name": "stdout",
          "text": [
            "Drive already mounted at /content/gdrive; to attempt to forcibly remount, call drive.mount(\"/content/gdrive\", force_remount=True).\n"
          ]
        }
      ],
      "source": [
        "#Menampilkan Drive\n",
        "from google.colab import drive\n",
        "drive.mount(\"/content/gdrive\")"
      ]
    },
    {
      "cell_type": "code",
      "source": [
        "import pandas as pd\n",
        "import numpy as np\n",
        "import re\n",
        "import matplotlib.pyplot as plt"
      ],
      "metadata": {
        "id": "Jfd24isp_CgH"
      },
      "execution_count": null,
      "outputs": []
    },
    {
      "cell_type": "code",
      "source": [
        "# Membaca dataset MovieLens 1M\n",
        "movies = pd.read_csv('/content/gdrive/MyDrive/Python TIA/ml-1m/movies.dat', sep='::', engine='python', header=None, names=['movieId', 'title', 'genres'], encoding='latin-1')"
      ],
      "metadata": {
        "id": "OT6N5X_jIUpH"
      },
      "execution_count": null,
      "outputs": []
    },
    {
      "cell_type": "code",
      "source": [
        "# Membaca dataset MovieLens 1M\n",
        "ratings = pd.read_csv('/content/gdrive/MyDrive/Python TIA/ml-1m/ratings.dat', sep='::', engine='python', header=None, names=['userId', 'movieId', 'rating', 'timestamp'])"
      ],
      "metadata": {
        "id": "PscD1sEkIbIA"
      },
      "execution_count": null,
      "outputs": []
    },
    {
      "cell_type": "code",
      "source": [
        "# Membaca dataset MovieLens 1M\n",
        "users = pd.read_csv('/content/gdrive/MyDrive/Python TIA/ml-1m/users.dat', sep='::', engine='python', header=None, names=['userId', 'gender', 'age', 'occupation', 'zip'])"
      ],
      "metadata": {
        "id": "0hZv0cbYIlX4"
      },
      "execution_count": null,
      "outputs": []
    },
    {
      "cell_type": "code",
      "source": [
        "#Menggabungkan data movies, ratings, dan users berdasarkan kolom \"movieId\"\n",
        "data = pd.merge(pd.merge(ratings, users), movies, on='movieId')"
      ],
      "metadata": {
        "id": "5agb-v6GIq8H"
      },
      "execution_count": null,
      "outputs": []
    },
    {
      "cell_type": "code",
      "source": [
        "# Membuat pivot table untuk menghitung nilai rata-rata peringkat yang diberikan oleh wanita untuk setiap film\n",
        "pivot_table = pd.pivot_table(data, values='rating', index='title', columns='gender', aggfunc='mean')"
      ],
      "metadata": {
        "id": "ofiu1ZPyJB72"
      },
      "execution_count": null,
      "outputs": []
    },
    {
      "cell_type": "code",
      "source": [
        "# Mengurutkan film berdasarkan nilai rata-rata peringkat yang diberikan oleh wanita\n",
        "sorted_by_women_ratings = pivot_table.sort_values(by='F', ascending=False)"
      ],
      "metadata": {
        "id": "MneUeS9DJKfH"
      },
      "execution_count": null,
      "outputs": []
    },
    {
      "cell_type": "markdown",
      "source": [
        "**JAWABAN NOMER 1 = FILM YANG PALING DI SENANGI OLEH PARA WANITA ADALAH Clean Slate (Coup de Torchon) (1981)**"
      ],
      "metadata": {
        "id": "DoO2TXykJ5p5"
      }
    },
    {
      "cell_type": "code",
      "source": [
        "# Menampilkan film yang paling disenangi oleh para wanita (film dengan nilai rata-rata peringkat wanita tertinggi)\n",
        "most_liked_by_women = sorted_by_women_ratings.head(1)\n",
        "print(most_liked_by_women)\n"
      ],
      "metadata": {
        "colab": {
          "base_uri": "https://localhost:8080/"
        },
        "id": "0fHly9bxJN95",
        "outputId": "4e266754-bcee-49ac-acaa-19b830ec4bcb"
      },
      "execution_count": null,
      "outputs": [
        {
          "output_type": "stream",
          "name": "stdout",
          "text": [
            "gender                                  F         M\n",
            "title                                              \n",
            "Clean Slate (Coup de Torchon) (1981)  5.0  3.857143\n"
          ]
        }
      ]
    },
    {
      "cell_type": "code",
      "source": [
        "# Menambahkan kolom \"rating_diff\" untuk menyimpan perbedaan rata-rata peringkat antara pria dan wanita\n",
        "pivot_table['rating_diff'] = pivot_table['F'] - pivot_table['M']"
      ],
      "metadata": {
        "id": "8oLZlOzSJSKG"
      },
      "execution_count": null,
      "outputs": []
    },
    {
      "cell_type": "code",
      "source": [
        "# Mengurutkan film berdasarkan perbedaan rata-rata peringkat\n",
        "sorted_by_rating_diff = pivot_table.sort_values(by='rating_diff', ascending=False)"
      ],
      "metadata": {
        "id": "2-YzP6wRKTNu"
      },
      "execution_count": null,
      "outputs": []
    },
    {
      "cell_type": "markdown",
      "source": [
        "**JAWABAN NOMER 2 = FILM YANG PALING BERPOTENSI MENYEBABKAN PERBEDAAN PENDAPAT ANTA MEN AND WOMEN ADALAH James Dean Story, The (1957)**"
      ],
      "metadata": {
        "id": "IZXvsWnoKdyS"
      }
    },
    {
      "cell_type": "code",
      "source": [
        "# Menampilkan film yang paling berpotensi menyebabkan perbedaan pendapat antara pria dan wanita\n",
        "most_controversial_movie = sorted_by_rating_diff.head(1)\n",
        "\n",
        "print(most_controversial_movie)"
      ],
      "metadata": {
        "colab": {
          "base_uri": "https://localhost:8080/"
        },
        "id": "KD_eH9jKKW7X",
        "outputId": "ca726d2b-ac52-4efd-f04e-ae5b3626cee2"
      },
      "execution_count": null,
      "outputs": [
        {
          "output_type": "stream",
          "name": "stdout",
          "text": [
            "gender                          F    M  rating_diff\n",
            "title                                              \n",
            "James Dean Story, The (1957)  4.0  1.0          3.0\n"
          ]
        }
      ]
    },
    {
      "cell_type": "code",
      "source": [
        "# Membaca dataset MovieLens 1M (movies.dat)\n",
        "movies['year'] = movies['title'].apply(lambda x: re.findall(r'\\((\\d{4})\\)', x)[0] if re.findall(r'\\((\\d{4})\\)', x) else '')"
      ],
      "metadata": {
        "id": "5wk2M0m1K07r"
      },
      "execution_count": null,
      "outputs": []
    },
    {
      "cell_type": "code",
      "source": [
        "# Mengambil tahun dari kolom \"movie title\" menggunakan regex\n",
        "movies['year'] = movies['title'].apply(lambda x: re.findall(r'\\((\\d{4})\\)', x)[0] if re.findall(r'\\((\\d{4})\\)', x) else '')"
      ],
      "metadata": {
        "id": "WUUEZf1XLSYk"
      },
      "execution_count": null,
      "outputs": []
    },
    {
      "cell_type": "code",
      "source": [
        "# Menghitung jumlah film berdasarkan tahun\n",
        "film_count_by_year = movies['year'].value_counts().sort_index()"
      ],
      "metadata": {
        "id": "VWNTTsGoLVNj"
      },
      "execution_count": null,
      "outputs": []
    },
    {
      "cell_type": "markdown",
      "source": [
        "**JAWABAN NOMER 3 = Buatlah grafik bar berikut (hint: extract tahun pada kolom movie title berdasarkan pattern regex berikut '.*\\((.*)\\).*')\n",
        "**"
      ],
      "metadata": {
        "id": "RbQo8rj3LkM7"
      }
    },
    {
      "cell_type": "code",
      "source": [
        "# Membuat grafik bar\n",
        "plt.figure(figsize=(12, 6))\n",
        "plt.bar(film_count_by_year.index, film_count_by_year.values)\n",
        "plt.xlabel('Tahun')\n",
        "plt.ylabel('Jumlah Film')\n",
        "plt.title('Jumlah Film Berdasarkan Tahun')\n",
        "plt.xticks(rotation=90)\n",
        "plt.show()"
      ],
      "metadata": {
        "colab": {
          "base_uri": "https://localhost:8080/",
          "height": 586
        },
        "id": "xlFyq5o6LYEz",
        "outputId": "0bdc1067-8925-42b0-eb7c-8863b7225059"
      },
      "execution_count": null,
      "outputs": [
        {
          "output_type": "display_data",
          "data": {
            "text/plain": [
              "<Figure size 1200x600 with 1 Axes>"
            ],
            "image/png": "[encoded data removed]"
          },
          "metadata": {}
        }
      ]
    }
  ]
}