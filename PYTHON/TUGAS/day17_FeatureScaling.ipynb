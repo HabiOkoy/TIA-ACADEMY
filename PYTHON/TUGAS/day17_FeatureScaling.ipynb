{
  "nbformat": 4,
  "nbformat_minor": 0,
  "metadata": {
    "colab": {
      "provenance": []
    },
    "kernelspec": {
      "name": "python3",
      "display_name": "Python 3"
    },
    "language_info": {
      "name": "python"
    }
  },
  "cells": [
    {
      "cell_type": "code",
      "execution_count": null,
      "metadata": {
        "id": "NkcS6qxXjEoT"
      },
      "outputs": [],
      "source": [
        "import numpy as np"
      ]
    },
    {
      "cell_type": "code",
      "source": [
        "dataset = np.array([[7000,45],[6000,44],[52000,40]])\n",
        "dataset"
      ],
      "metadata": {
        "colab": {
          "base_uri": "https://localhost:8080/"
        },
        "id": "Axbjqa4Vj31r",
        "outputId": "5342d225-b644-4fbc-a65d-5ce7807370ca"
      },
      "execution_count": null,
      "outputs": [
        {
          "output_type": "execute_result",
          "data": {
            "text/plain": [
              "array([[ 7000,    45],\n",
              "       [ 6000,    44],\n",
              "       [52000,    40]])"
            ]
          },
          "metadata": {},
          "execution_count": 4
        }
      ]
    },
    {
      "cell_type": "code",
      "source": [
        "from sklearn.preprocessing import MinMaxScaler\n",
        "scaler = MinMaxScaler()"
      ],
      "metadata": {
        "id": "u2K34cLDkaiO"
      },
      "execution_count": null,
      "outputs": []
    },
    {
      "cell_type": "code",
      "source": [
        "norm_dataset = scaler.fit_transform(dataset)\n",
        "norm_dataset"
      ],
      "metadata": {
        "colab": {
          "base_uri": "https://localhost:8080/"
        },
        "id": "JslRjMIjkuYp",
        "outputId": "67ef549f-9abf-41bf-acdf-b5e11ec7bab6"
      },
      "execution_count": null,
      "outputs": [
        {
          "output_type": "execute_result",
          "data": {
            "text/plain": [
              "array([[0.02173913, 1.        ],\n",
              "       [0.        , 0.8       ],\n",
              "       [1.        , 0.        ]])"
            ]
          },
          "metadata": {},
          "execution_count": 6
        }
      ]
    },
    {
      "cell_type": "code",
      "source": [
        "from sklearn.preprocessing import StandardScaler\n",
        "scaler2 = StandardScaler()"
      ],
      "metadata": {
        "id": "VaG6r6KGk_Kn"
      },
      "execution_count": null,
      "outputs": []
    },
    {
      "cell_type": "code",
      "source": [
        "std_dataset = scaler2.fit_transform(dataset)\n",
        "std_dataset"
      ],
      "metadata": {
        "colab": {
          "base_uri": "https://localhost:8080/"
        },
        "id": "q7Gy7ySIlNNk",
        "outputId": "f98a9e93-b06b-4905-b847-79a4d5895a8b"
      },
      "execution_count": null,
      "outputs": [
        {
          "output_type": "execute_result",
          "data": {
            "text/plain": [
              "array([[-0.68367174,  0.9258201 ],\n",
              "       [-0.73028572,  0.46291005],\n",
              "       [ 1.41395746, -1.38873015]])"
            ]
          },
          "metadata": {},
          "execution_count": 8
        }
      ]
    },
    {
      "cell_type": "code",
      "source": [
        "matriks_awal = np.array([\n",
        "    [1,2,3],\n",
        "    [4,5,6],\n",
        "    [7,8,9]\n",
        "])\n",
        "matriks_awal"
      ],
      "metadata": {
        "colab": {
          "base_uri": "https://localhost:8080/"
        },
        "id": "XgvpKi_tlWAE",
        "outputId": "cee3b7df-c388-463e-859f-d846f3045bc8"
      },
      "execution_count": null,
      "outputs": [
        {
          "output_type": "execute_result",
          "data": {
            "text/plain": [
              "array([[1, 2, 3],\n",
              "       [4, 5, 6],\n",
              "       [7, 8, 9]])"
            ]
          },
          "metadata": {},
          "execution_count": 12
        }
      ]
    },
    {
      "cell_type": "code",
      "source": [
        "from sklearn.model_selection import train_test_split\n",
        "train_set, test_set = train_test_split(matriks_awal, test_size=0.2 ,random_state=1)\n",
        "print ('training set=')\n",
        "print (train_set)\n",
        "print('test set=')\n",
        "print(test_set)"
      ],
      "metadata": {
        "colab": {
          "base_uri": "https://localhost:8080/"
        },
        "id": "ZAd9NqKFl0eC",
        "outputId": "9cb6c1f6-8c3b-4c15-d742-7a5d8188762f"
      },
      "execution_count": null,
      "outputs": [
        {
          "output_type": "stream",
          "name": "stdout",
          "text": [
            "training set=\n",
            "[[7 8 9]\n",
            " [4 5 6]]\n",
            "test set=\n",
            "[[1 2 3]]\n"
          ]
        }
      ]
    }
  ]
}